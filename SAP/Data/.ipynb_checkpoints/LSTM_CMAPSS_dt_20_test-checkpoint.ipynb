{
 "cells": [
  {
   "cell_type": "code",
   "execution_count": 2,
   "metadata": {
    "collapsed": false,
    "deletable": true,
    "editable": true
   },
   "outputs": [],
   "source": [
    "import numpy as np\n",
    "import pandas as pd\n",
    "import matplotlib.pyplot as plt\n",
    "import warnings\n",
    "%matplotlib inline\n",
    "\n",
    "#Data import\n",
    "data_training_FD2 = pd.read_csv('train_FD002.txt',sep=\" \", header=None)\n",
    "data_training_FD2.head()\n",
    "engine_cycle = ['engine_id','cycle']\n",
    "settings = ['setting1','setting2','setting3']\n",
    "sensors = ['s%s'%i for i in range(1,22)]\n",
    "nan_cols = ['NaN1','NaN2']\n",
    "data_training_FD2.columns = engine_cycle + settings + sensors + nan_cols\n",
    "data_training_FD2 = data_training_FD2.drop(['NaN1','NaN2'],axis=1)\n",
    "\n",
    "#RUL\n",
    "RULtraining = []\n",
    "for unit in range(1,data_training_FD2['engine_id'].unique().shape[0]):\n",
    "    RULtraining.append(data_training_FD2[data_training_FD2['engine_id'] == unit]['cycle'].max())\n",
    "\n",
    "#Set a look-back time range to train the model\n",
    "dt = 20\n",
    "\n",
    "#Load training data\n",
    "Xtraining_to_testing = np.load('Xtraining_to_testing_dt_20.npy')\n",
    "Ytraining_to_testing = np.load('Ytraining_to_testing_dt_20.npy')\n",
    "engines_training_to_testing = np.load('engines_training_to_testing_dt_20.npy')"
   ]
  },
  {
   "cell_type": "code",
   "execution_count": 3,
   "metadata": {
    "collapsed": false
   },
   "outputs": [
    {
     "name": "stderr",
     "output_type": "stream",
     "text": [
      "Using TensorFlow backend.\n"
     ]
    }
   ],
   "source": [
    "#Import modules\n",
    "import keras\n",
    "from keras.models import Sequential\n",
    "from keras.layers import LSTM\n",
    "from keras.layers import Dense\n",
    "\n",
    "#Import trained model\n",
    "from keras.models import load_model\n",
    "model = load_model('model_dt_20.h5')"
   ]
  },
  {
   "cell_type": "code",
   "execution_count": 4,
   "metadata": {
    "collapsed": false
   },
   "outputs": [
    {
     "data": {
      "text/plain": [
       "<keras.models.Sequential at 0x1291f5150>"
      ]
     },
     "execution_count": 4,
     "metadata": {},
     "output_type": "execute_result"
    }
   ],
   "source": [
    "model"
   ]
  },
  {
   "cell_type": "code",
   "execution_count": 5,
   "metadata": {
    "collapsed": false
   },
   "outputs": [],
   "source": [
    "#Model evaluation\n",
    "engines_to_check = [1,3,5,7,8,9]\n",
    "\n",
    "prediction, real = [], []\n",
    "for engine in engines_to_check:\n",
    "    if type(engines_training_to_testing) == list:\n",
    "        location = engines_training_to_testing.index(engine)\n",
    "    else:\n",
    "        location = engines_training_to_testing.tolist().index(engine)\n",
    "    Xtest_engine = Xtraining_to_testing[location]\n",
    "    prediction_engine = model.predict(Xtest_engine)\n",
    "    prediction.append(prediction_engine.reshape(prediction_engine.shape[0]))\n",
    "    real.append(Ytraining_to_testing[location])\n",
    "\n",
    "#iNormalization\n",
    "time_of_event_max = 378.0\n",
    "for index in range(len(real)): # for every engine\n",
    "    prediction[index] = prediction[index]*time_of_event_max\n",
    "    real[index] = real[index]*time_of_event_max"
   ]
  },
  {
   "cell_type": "code",
   "execution_count": 6,
   "metadata": {
    "collapsed": true
   },
   "outputs": [],
   "source": [
    "import matplotlib.pyplot as plt\n",
    "%matplotlib inline\n",
    "# put this function in util.py or generate visualization.py\n",
    "def plot_RUL(engine, X, engines_to_check, prediction, real, RULtraining, dt):\n",
    "    plt.figure(figsize=(12,3))\n",
    "    location = engines_to_check.index(engine)\n",
    "    Yprediction = prediction[location]\n",
    "    cycle = X[X['engine_id']==engine].cycle[dt-1:]\n",
    "    Yreal = real[location]\n",
    "    AverageRUL = range(0,-len(Yreal),-1) + np.mean(RULtraining) - dt + 1\n",
    "    print cycle[:5] \n",
    "    print AverageRUL[:5]\n",
    "    \n",
    "    plt.plot(cycle,AverageRUL,'k.',label='Average time-to-failure')\n",
    "    plt.plot(cycle,Yreal,'b-',label='True time-to-failure')\n",
    "    plt.plot(cycle,Yprediction,'r-',label='Predicted time-to-failure')\n",
    "    plt.title('Engine: %d' %engine)\n",
    "    plt.xlabel('Cycle',fontsize=12)\n",
    "    plt.legend(loc='upper right')\n",
    "    plt.show()"
   ]
  },
  {
   "cell_type": "code",
   "execution_count": 11,
   "metadata": {
    "collapsed": false
   },
   "outputs": [
    {
     "name": "stdout",
     "output_type": "stream",
     "text": [
      "19    20\n",
      "20    21\n",
      "21    22\n",
      "22    23\n",
      "23    24\n",
      "Name: cycle, dtype: int64\n",
      "[ 187.34362934  186.34362934  185.34362934  184.34362934  183.34362934]\n"
     ]
    },
    {
     "data": {
      "image/png": "[encoded data removed]",
      "text/plain": [
       "<matplotlib.figure.Figure at 0x1311b8b90>"
      ]
     },
     "metadata": {},
     "output_type": "display_data"
    }
   ],
   "source": [
    "plot_RUL(engine = 1, X = data_training_FD2, engines_to_check = engines_to_check,\n",
    "         prediction = prediction, real = real, RULtraining = RULtraining, dt = dt)"
   ]
  },
  {
   "cell_type": "code",
   "execution_count": 24,
   "metadata": {
    "collapsed": false
   },
   "outputs": [
    {
     "data": {
      "text/plain": [
       "197.34362934362935"
      ]
     },
     "execution_count": 24,
     "metadata": {},
     "output_type": "execute_result"
    }
   ],
   "source": [
    "np.mean(RULtraining) - dt + 1"
   ]
  },
  {
   "cell_type": "code",
   "execution_count": null,
   "metadata": {
    "collapsed": true
   },
   "outputs": [],
   "source": []
  }
 ],
 "metadata": {
  "kernelspec": {
   "display_name": "Python 2",
   "language": "python",
   "name": "python2"
  },
  "language_info": {
   "codemirror_mode": {
    "name": "ipython",
    "version": 2
   },
   "file_extension": ".py",
   "mimetype": "text/x-python",
   "name": "python",
   "nbconvert_exporter": "python",
   "pygments_lexer": "ipython2",
   "version": "2.7.13"
  }
 },
 "nbformat": 4,
 "nbformat_minor": 2
}
