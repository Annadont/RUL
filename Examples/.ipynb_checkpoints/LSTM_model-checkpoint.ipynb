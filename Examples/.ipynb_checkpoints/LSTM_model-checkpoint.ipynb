{
 "cells": [
  {
   "cell_type": "markdown",
   "metadata": {},
   "source": [
    "# Long Short-Term Memory Networks for Remaining Useful Life Estimation\n",
    "\n",
    "Survival Analysis comprises of statistical approaches to analyze time to the underlying event of interest. The analysis may also be referred as reliability analysis. Here, we develop this package to understand the time series data of turbofan engines degradation simulations. The time series data contains hidden information that provides clues to the time to failure, also known as remaining useful life (RUL). Accurate estimation of RUL plays a critical role in health management of turbofan engines. This package preprocess and analyzes the data and develop a machine learning model to capture the hidden information such as interactions between multiple sensors measurements and degradation patterns. In this package, we propose Long Short-Term Memory (LSTM) approach for RUL estimation. LSTM models are based on neural network with cyclic connections that makes them powerful in modeling sequences and forecast the degradation patterns. "
   ]
  },
  {
   "cell_type": "markdown",
   "metadata": {},
   "source": [
    "### Table of Content\n",
    "\n",
    "  * [Data Description](#Data-Description)\n",
    "  * [Import Data](#Import-Data)\n",
    "  * [Data Analysis](#Data-Analysis)\n",
    "  * [Model Development](#Model-Development)\n",
    "  * [Model Evaluation](#Model-Evaluation)"
   ]
  },
  {
   "cell_type": "markdown",
   "metadata": {},
   "source": [
    "### Data Description\n",
    "\n",
    "NASA C-MAPSS (Commercial Modular Aero-Propulsion System Simulation) data set (Turbofan Engine Degradation Simulation Data Set) is a widely used benchmark data. C-MAPSS data includes sensor data with different number of operating conditions and fault conditions [1].\n",
    "\n",
    "|      Data Set        |  FD001 | FD002 | FD003 | FD004|\n",
    "|----------------------|--------|-------|-------|------|\n",
    "|  Train Trajectories  |  100   |  260  |  100  | 249  |\n",
    "|   Test Trajectories  |  100   |  259  |  100  |  248 |\n",
    "| Operating Conditions |    1   |   6   |   1   |   6  |\n",
    "|    Fault Conditions  |    1   |   1   |   2   |   2  |\n",
    "\n",
    "The data has 4 sub-data sets with different number of operating conditions and fault conditions and each sub-data set is further divided into training and test subsets, as shown in table above. We use dataset FD002 for our purpose. Each row in the data is a snapshot of data taken during a single operating time cycle, which includes 26 columns: \n",
    " * 1st column represents engine ID, \n",
    " * 2nd column represents the current operational cycle number, \n",
    " * 3-5 columns are the three operational settings that have a substantial effect on engine performance, \n",
    " * 6-26 columns represent the 21 sensor values. More information about the 21 sensors can be found in [2]. \n",
    "\n",
    "The engine is operating normally at the start of each time series, and develops a fault at some point in time which is unknown. In the training set, the fault grows in magnitude until a system failure. In the test set, data is provided up to some time prior to system failure. The goal is to estimate the number of remaining operational cycles before failure on the test data. In this package we use only FD002 dataset for demonstrating capabilities of LSTM to estimate remaining useful life.\n",
    "\n",
    "[1] S. Zheng, K. Ristovski, A. Farahat and C. Gupta, \"Long Short-Term Memory Network for Remaining Useful Life estimation,\" 2017 IEEE International Conference on Prognostics and Health Management (ICPHM), Dallas, TX, 2017, pp. 88-95.\n",
    "\n",
    "[2] E. Ramasso and A. Saxena, “Performance benchmarking and analysis of prognostic methods for cmapss datasets.” International Journal of Prognostics and Health Management, vol. 5, no. 2, pp. 1–15, 2014."
   ]
  },
  {
   "cell_type": "markdown",
   "metadata": {},
   "source": [
    "### Import Data\n",
    "\n",
    "'Turbofan Engine Degradation Simulation Data Set' can be downloaded from here: \n",
    "https://ti.arc.nasa.gov/tech/dash/pcoe/prognostic-data-repository/"
   ]
  },
  {
   "cell_type": "code",
   "execution_count": 1,
   "metadata": {},
   "outputs": [
    {
     "name": "stderr",
     "output_type": "stream",
     "text": [
      "Using TensorFlow backend.\n"
     ]
    },
    {
     "name": "stdout",
     "output_type": "stream",
     "text": [
      "[Info] Training Data Loading...\n",
      "[Info] Testing Data Loading...\n",
      "[Info] Loading records of RUL on this testing data...\n"
     ]
    }
   ],
   "source": [
    "# Import C-MAPSS Dataset FD002 train and test and records of RUL\n",
    "from SAP.data_import import get_C_MAPSS_Data\n",
    "data_training_FD2, data_testing_FD2, data_testing_RUL_FD2 = get_C_MAPSS_Data(path = 'Data', dataset = 'FD002')"
   ]
  },
  {
   "cell_type": "markdown",
   "metadata": {},
   "source": [
    "### Data Analysis\n",
    "Here we analyze information in the data. "
   ]
  },
  {
   "cell_type": "code",
   "execution_count": 2,
   "metadata": {},
   "outputs": [
    {
     "data": {
      "text/html": [
       "<div>\n",
       "<style scoped>\n",
       "    .dataframe tbody tr th:only-of-type {\n",
       "        vertical-align: middle;\n",
       "    }\n",
       "\n",
       "    .dataframe tbody tr th {\n",
       "        vertical-align: top;\n",
       "    }\n",
       "\n",
       "    .dataframe thead th {\n",
       "        text-align: right;\n",
       "    }\n",
       "</style>\n",
       "<table border=\"1\" class=\"dataframe\">\n",
       "  <thead>\n",
       "    <tr style=\"text-align: right;\">\n",
       "      <th></th>\n",
       "      <th>engine_id</th>\n",
       "      <th>cycle</th>\n",
       "      <th>setting1</th>\n",
       "      <th>setting2</th>\n",
       "      <th>setting3</th>\n",
       "      <th>s1</th>\n",
       "      <th>s2</th>\n",
       "      <th>s3</th>\n",
       "      <th>s4</th>\n",
       "      <th>s5</th>\n",
       "      <th>...</th>\n",
       "      <th>s12</th>\n",
       "      <th>s13</th>\n",
       "      <th>s14</th>\n",
       "      <th>s15</th>\n",
       "      <th>s16</th>\n",
       "      <th>s17</th>\n",
       "      <th>s18</th>\n",
       "      <th>s19</th>\n",
       "      <th>s20</th>\n",
       "      <th>s21</th>\n",
       "    </tr>\n",
       "  </thead>\n",
       "  <tbody>\n",
       "    <tr>\n",
       "      <th>0</th>\n",
       "      <td>1</td>\n",
       "      <td>1</td>\n",
       "      <td>34.9983</td>\n",
       "      <td>0.8400</td>\n",
       "      <td>100.0</td>\n",
       "      <td>449.44</td>\n",
       "      <td>555.32</td>\n",
       "      <td>1358.61</td>\n",
       "      <td>1137.23</td>\n",
       "      <td>5.48</td>\n",
       "      <td>...</td>\n",
       "      <td>183.06</td>\n",
       "      <td>2387.72</td>\n",
       "      <td>8048.56</td>\n",
       "      <td>9.3461</td>\n",
       "      <td>0.02</td>\n",
       "      <td>334</td>\n",
       "      <td>2223</td>\n",
       "      <td>100.00</td>\n",
       "      <td>14.73</td>\n",
       "      <td>8.8071</td>\n",
       "    </tr>\n",
       "    <tr>\n",
       "      <th>1</th>\n",
       "      <td>1</td>\n",
       "      <td>2</td>\n",
       "      <td>41.9982</td>\n",
       "      <td>0.8408</td>\n",
       "      <td>100.0</td>\n",
       "      <td>445.00</td>\n",
       "      <td>549.90</td>\n",
       "      <td>1353.22</td>\n",
       "      <td>1125.78</td>\n",
       "      <td>3.91</td>\n",
       "      <td>...</td>\n",
       "      <td>130.42</td>\n",
       "      <td>2387.66</td>\n",
       "      <td>8072.30</td>\n",
       "      <td>9.3774</td>\n",
       "      <td>0.02</td>\n",
       "      <td>330</td>\n",
       "      <td>2212</td>\n",
       "      <td>100.00</td>\n",
       "      <td>10.41</td>\n",
       "      <td>6.2665</td>\n",
       "    </tr>\n",
       "    <tr>\n",
       "      <th>2</th>\n",
       "      <td>1</td>\n",
       "      <td>3</td>\n",
       "      <td>24.9988</td>\n",
       "      <td>0.6218</td>\n",
       "      <td>60.0</td>\n",
       "      <td>462.54</td>\n",
       "      <td>537.31</td>\n",
       "      <td>1256.76</td>\n",
       "      <td>1047.45</td>\n",
       "      <td>7.05</td>\n",
       "      <td>...</td>\n",
       "      <td>164.22</td>\n",
       "      <td>2028.03</td>\n",
       "      <td>7864.87</td>\n",
       "      <td>10.8941</td>\n",
       "      <td>0.02</td>\n",
       "      <td>309</td>\n",
       "      <td>1915</td>\n",
       "      <td>84.93</td>\n",
       "      <td>14.08</td>\n",
       "      <td>8.6723</td>\n",
       "    </tr>\n",
       "    <tr>\n",
       "      <th>3</th>\n",
       "      <td>1</td>\n",
       "      <td>4</td>\n",
       "      <td>42.0077</td>\n",
       "      <td>0.8416</td>\n",
       "      <td>100.0</td>\n",
       "      <td>445.00</td>\n",
       "      <td>549.51</td>\n",
       "      <td>1354.03</td>\n",
       "      <td>1126.38</td>\n",
       "      <td>3.91</td>\n",
       "      <td>...</td>\n",
       "      <td>130.72</td>\n",
       "      <td>2387.61</td>\n",
       "      <td>8068.66</td>\n",
       "      <td>9.3528</td>\n",
       "      <td>0.02</td>\n",
       "      <td>329</td>\n",
       "      <td>2212</td>\n",
       "      <td>100.00</td>\n",
       "      <td>10.59</td>\n",
       "      <td>6.4701</td>\n",
       "    </tr>\n",
       "    <tr>\n",
       "      <th>4</th>\n",
       "      <td>1</td>\n",
       "      <td>5</td>\n",
       "      <td>25.0005</td>\n",
       "      <td>0.6203</td>\n",
       "      <td>60.0</td>\n",
       "      <td>462.54</td>\n",
       "      <td>537.07</td>\n",
       "      <td>1257.71</td>\n",
       "      <td>1047.93</td>\n",
       "      <td>7.05</td>\n",
       "      <td>...</td>\n",
       "      <td>164.31</td>\n",
       "      <td>2028.00</td>\n",
       "      <td>7861.23</td>\n",
       "      <td>10.8963</td>\n",
       "      <td>0.02</td>\n",
       "      <td>309</td>\n",
       "      <td>1915</td>\n",
       "      <td>84.93</td>\n",
       "      <td>14.13</td>\n",
       "      <td>8.5286</td>\n",
       "    </tr>\n",
       "  </tbody>\n",
       "</table>\n",
       "<p>5 rows × 26 columns</p>\n",
       "</div>"
      ],
      "text/plain": [
       "   engine_id  cycle  setting1  setting2  setting3      s1      s2       s3  \\\n",
       "0          1      1   34.9983    0.8400     100.0  449.44  555.32  1358.61   \n",
       "1          1      2   41.9982    0.8408     100.0  445.00  549.90  1353.22   \n",
       "2          1      3   24.9988    0.6218      60.0  462.54  537.31  1256.76   \n",
       "3          1      4   42.0077    0.8416     100.0  445.00  549.51  1354.03   \n",
       "4          1      5   25.0005    0.6203      60.0  462.54  537.07  1257.71   \n",
       "\n",
       "        s4    s5   ...       s12      s13      s14      s15   s16  s17   s18  \\\n",
       "0  1137.23  5.48   ...    183.06  2387.72  8048.56   9.3461  0.02  334  2223   \n",
       "1  1125.78  3.91   ...    130.42  2387.66  8072.30   9.3774  0.02  330  2212   \n",
       "2  1047.45  7.05   ...    164.22  2028.03  7864.87  10.8941  0.02  309  1915   \n",
       "3  1126.38  3.91   ...    130.72  2387.61  8068.66   9.3528  0.02  329  2212   \n",
       "4  1047.93  7.05   ...    164.31  2028.00  7861.23  10.8963  0.02  309  1915   \n",
       "\n",
       "      s19    s20     s21  \n",
       "0  100.00  14.73  8.8071  \n",
       "1  100.00  10.41  6.2665  \n",
       "2   84.93  14.08  8.6723  \n",
       "3  100.00  10.59  6.4701  \n",
       "4   84.93  14.13  8.5286  \n",
       "\n",
       "[5 rows x 26 columns]"
      ]
     },
     "execution_count": 2,
     "metadata": {},
     "output_type": "execute_result"
    }
   ],
   "source": [
    "data_training_FD2.head()"
   ]
  },
  {
   "cell_type": "markdown",
   "metadata": {},
   "source": [
    "Training data contains engine_id as engine number and snapshot of different variables are given at cycles. The degradation of that engine grows with cycle. The training data contains the failure of engine at the last cycle that provides us the information of engine remaining useful life (RUL) at earliear cycles. Here we plot the histogram of RUL from all engines."
   ]
  },
  {
   "cell_type": "code",
   "execution_count": 3,
   "metadata": {},
   "outputs": [
    {
     "data": {
      "image/png": "[encoded data removed]",
      "text/plain": [
       "<matplotlib.figure.Figure at 0x106bc1610>"
      ]
     },
     "metadata": {},
     "output_type": "display_data"
    },
    {
     "name": "stdout",
     "output_type": "stream",
     "text": [
      "Average time-to-failure from the first cycle is: 206.34\n"
     ]
    }
   ],
   "source": [
    "# plot the RUL histogram of units\n",
    "import numpy as np\n",
    "import matplotlib.pyplot as plt\n",
    "%matplotlib inline\n",
    "plt.figure(figsize=(10,3))\n",
    "plt.subplot(1,2,1)\n",
    "RULtraining = []\n",
    "for unit in range(1,data_training_FD2['engine_id'].unique().shape[0]):\n",
    "    RULtraining.append(data_training_FD2[data_training_FD2['engine_id'] == unit]['cycle'].max())\n",
    "plt.hist(RULtraining)\n",
    "plt.title('Histogram of cycle number at failure')\n",
    "\n",
    "plt.subplot(1,2,2)\n",
    "plt.boxplot(RULtraining)\n",
    "plt.title('Distribution of cycle number at failure')\n",
    "plt.ylabel('RUL')\n",
    "plt.show()\n",
    "\n",
    "print 'Average time-to-failure from the first cycle is: %.2f' %np.mean(RULtraining)"
   ]
  },
  {
   "cell_type": "markdown",
   "metadata": {},
   "source": [
    "(minimum, maximum) values of RUL are observed as (128,378). The majority of engine fails near 200 cycles. "
   ]
  },
  {
   "cell_type": "markdown",
   "metadata": {},
   "source": [
    "### Model Development\n",
    "This section consists of modeling data preparation, network architecture and model development with training data."
   ]
  },
  {
   "cell_type": "code",
   "execution_count": 4,
   "metadata": {},
   "outputs": [
    {
     "name": "stdout",
     "output_type": "stream",
     "text": [
      "[Info] Generating a column 'time_of_event' using maximum cycle number...\n",
      "[Info] Generating 'time_to_event' value for each engine at given cycle...\n",
      "[Info] Centering the settings and sensors measurements...\n",
      "[Info] Box plot of column variables:\n"
     ]
    },
    {
     "data": {
      "image/png": "[encoded data removed]",
      "text/plain": [
       "<matplotlib.figure.Figure at 0x106b23610>"
      ]
     },
     "metadata": {},
     "output_type": "display_data"
    },
    {
     "name": "stdout",
     "output_type": "stream",
     "text": [
      "[Info] Normalizing the remaining useful life at given cycle...\n",
      "[Info] Preparing the input and output label data for model training...\n",
      "[Info] Plot of model training error:\n"
     ]
    },
    {
     "data": {
      "image/png": "[encoded data removed]",
      "text/plain": [
       "<matplotlib.figure.Figure at 0x1a22073a90>"
      ]
     },
     "metadata": {},
     "output_type": "display_data"
    }
   ],
   "source": [
    "from SAP.model import LSTM_for_RUL\n",
    "%matplotlib inline\n",
    "\n",
    "# Build model\n",
    "(data_training,\n",
    " Xtraining, \n",
    " Ytraining, \n",
    " model,\n",
    " settings_min_max_mean,\n",
    " sensors_min_max_mean,\n",
    " time_of_event_max,\n",
    " centering,\n",
    " normalization,\n",
    " dt) = LSTM_for_RUL(X=data_training_FD2,\n",
    "                centering = True,\n",
    "                normalization = True,\n",
    "                dt = 10, # dt = 10,20,30,40 are available\n",
    "                load_XYtraining_data = False,\n",
    "                model_parameters = {'LSTM':[32,64],'FFNN':[8,8,1],'epoch':1,'batch_size':32,'verbose':1},\n",
    "                import_trained_model = True,\n",
    "                plot_training_history = True\n",
    "                                 )"
   ]
  },
  {
   "cell_type": "code",
   "execution_count": 5,
   "metadata": {},
   "outputs": [
    {
     "data": {
      "text/html": [
       "<div>\n",
       "<style scoped>\n",
       "    .dataframe tbody tr th:only-of-type {\n",
       "        vertical-align: middle;\n",
       "    }\n",
       "\n",
       "    .dataframe tbody tr th {\n",
       "        vertical-align: top;\n",
       "    }\n",
       "\n",
       "    .dataframe thead th {\n",
       "        text-align: right;\n",
       "    }\n",
       "</style>\n",
       "<table border=\"1\" class=\"dataframe\">\n",
       "  <thead>\n",
       "    <tr style=\"text-align: right;\">\n",
       "      <th></th>\n",
       "      <th>engine_id</th>\n",
       "      <th>cycle</th>\n",
       "      <th>setting1</th>\n",
       "      <th>setting2</th>\n",
       "      <th>setting3</th>\n",
       "      <th>s1</th>\n",
       "      <th>s2</th>\n",
       "      <th>s3</th>\n",
       "      <th>s4</th>\n",
       "      <th>s5</th>\n",
       "      <th>...</th>\n",
       "      <th>s14</th>\n",
       "      <th>s15</th>\n",
       "      <th>s16</th>\n",
       "      <th>s17</th>\n",
       "      <th>s18</th>\n",
       "      <th>s19</th>\n",
       "      <th>s20</th>\n",
       "      <th>s21</th>\n",
       "      <th>time_of_event</th>\n",
       "      <th>time_to_event</th>\n",
       "    </tr>\n",
       "  </thead>\n",
       "  <tbody>\n",
       "    <tr>\n",
       "      <th>0</th>\n",
       "      <td>1</td>\n",
       "      <td>1</td>\n",
       "      <td>0.261852</td>\n",
       "      <td>0.318223</td>\n",
       "      <td>0.148849</td>\n",
       "      <td>-0.318586</td>\n",
       "      <td>-0.223437</td>\n",
       "      <td>-0.166222</td>\n",
       "      <td>-0.164184</td>\n",
       "      <td>-0.238281</td>\n",
       "      <td>...</td>\n",
       "      <td>-0.042933</td>\n",
       "      <td>0.006022</td>\n",
       "      <td>-0.332595</td>\n",
       "      <td>-0.149057</td>\n",
       "      <td>-0.012276</td>\n",
       "      <td>0.148849</td>\n",
       "      <td>-0.207795</td>\n",
       "      <td>-0.208556</td>\n",
       "      <td>149.0</td>\n",
       "      <td>0.391534</td>\n",
       "    </tr>\n",
       "    <tr>\n",
       "      <th>1</th>\n",
       "      <td>1</td>\n",
       "      <td>2</td>\n",
       "      <td>0.428485</td>\n",
       "      <td>0.319173</td>\n",
       "      <td>0.148849</td>\n",
       "      <td>-0.378854</td>\n",
       "      <td>-0.273166</td>\n",
       "      <td>-0.180824</td>\n",
       "      <td>-0.191744</td>\n",
       "      <td>-0.384873</td>\n",
       "      <td>...</td>\n",
       "      <td>0.013572</td>\n",
       "      <td>0.017482</td>\n",
       "      <td>-0.332595</td>\n",
       "      <td>-0.190724</td>\n",
       "      <td>-0.035531</td>\n",
       "      <td>0.148849</td>\n",
       "      <td>-0.355943</td>\n",
       "      <td>-0.353075</td>\n",
       "      <td>149.0</td>\n",
       "      <td>0.388889</td>\n",
       "    </tr>\n",
       "    <tr>\n",
       "      <th>2</th>\n",
       "      <td>1</td>\n",
       "      <td>3</td>\n",
       "      <td>0.023814</td>\n",
       "      <td>0.059078</td>\n",
       "      <td>-0.851151</td>\n",
       "      <td>-0.140766</td>\n",
       "      <td>-0.388682</td>\n",
       "      <td>-0.442127</td>\n",
       "      <td>-0.380282</td>\n",
       "      <td>-0.091689</td>\n",
       "      <td>...</td>\n",
       "      <td>-0.480144</td>\n",
       "      <td>0.572806</td>\n",
       "      <td>-0.332595</td>\n",
       "      <td>-0.409474</td>\n",
       "      <td>-0.663438</td>\n",
       "      <td>-0.851151</td>\n",
       "      <td>-0.230086</td>\n",
       "      <td>-0.216224</td>\n",
       "      <td>149.0</td>\n",
       "      <td>0.386243</td>\n",
       "    </tr>\n",
       "    <tr>\n",
       "      <th>3</th>\n",
       "      <td>1</td>\n",
       "      <td>4</td>\n",
       "      <td>0.428711</td>\n",
       "      <td>0.320123</td>\n",
       "      <td>0.148849</td>\n",
       "      <td>-0.378854</td>\n",
       "      <td>-0.276745</td>\n",
       "      <td>-0.178629</td>\n",
       "      <td>-0.190300</td>\n",
       "      <td>-0.384873</td>\n",
       "      <td>...</td>\n",
       "      <td>0.004909</td>\n",
       "      <td>0.008475</td>\n",
       "      <td>-0.332595</td>\n",
       "      <td>-0.201141</td>\n",
       "      <td>-0.035531</td>\n",
       "      <td>0.148849</td>\n",
       "      <td>-0.349770</td>\n",
       "      <td>-0.341494</td>\n",
       "      <td>149.0</td>\n",
       "      <td>0.383598</td>\n",
       "    </tr>\n",
       "    <tr>\n",
       "      <th>4</th>\n",
       "      <td>1</td>\n",
       "      <td>5</td>\n",
       "      <td>0.023855</td>\n",
       "      <td>0.057296</td>\n",
       "      <td>-0.851151</td>\n",
       "      <td>-0.140766</td>\n",
       "      <td>-0.390884</td>\n",
       "      <td>-0.439553</td>\n",
       "      <td>-0.379127</td>\n",
       "      <td>-0.091689</td>\n",
       "      <td>...</td>\n",
       "      <td>-0.488808</td>\n",
       "      <td>0.573611</td>\n",
       "      <td>-0.332595</td>\n",
       "      <td>-0.409474</td>\n",
       "      <td>-0.663438</td>\n",
       "      <td>-0.851151</td>\n",
       "      <td>-0.228371</td>\n",
       "      <td>-0.224398</td>\n",
       "      <td>149.0</td>\n",
       "      <td>0.380952</td>\n",
       "    </tr>\n",
       "  </tbody>\n",
       "</table>\n",
       "<p>5 rows × 28 columns</p>\n",
       "</div>"
      ],
      "text/plain": [
       "   engine_id  cycle  setting1  setting2  setting3        s1        s2  \\\n",
       "0          1      1  0.261852  0.318223  0.148849 -0.318586 -0.223437   \n",
       "1          1      2  0.428485  0.319173  0.148849 -0.378854 -0.273166   \n",
       "2          1      3  0.023814  0.059078 -0.851151 -0.140766 -0.388682   \n",
       "3          1      4  0.428711  0.320123  0.148849 -0.378854 -0.276745   \n",
       "4          1      5  0.023855  0.057296 -0.851151 -0.140766 -0.390884   \n",
       "\n",
       "         s3        s4        s5      ...             s14       s15       s16  \\\n",
       "0 -0.166222 -0.164184 -0.238281      ...       -0.042933  0.006022 -0.332595   \n",
       "1 -0.180824 -0.191744 -0.384873      ...        0.013572  0.017482 -0.332595   \n",
       "2 -0.442127 -0.380282 -0.091689      ...       -0.480144  0.572806 -0.332595   \n",
       "3 -0.178629 -0.190300 -0.384873      ...        0.004909  0.008475 -0.332595   \n",
       "4 -0.439553 -0.379127 -0.091689      ...       -0.488808  0.573611 -0.332595   \n",
       "\n",
       "        s17       s18       s19       s20       s21  time_of_event  \\\n",
       "0 -0.149057 -0.012276  0.148849 -0.207795 -0.208556          149.0   \n",
       "1 -0.190724 -0.035531  0.148849 -0.355943 -0.353075          149.0   \n",
       "2 -0.409474 -0.663438 -0.851151 -0.230086 -0.216224          149.0   \n",
       "3 -0.201141 -0.035531  0.148849 -0.349770 -0.341494          149.0   \n",
       "4 -0.409474 -0.663438 -0.851151 -0.228371 -0.224398          149.0   \n",
       "\n",
       "   time_to_event  \n",
       "0       0.391534  \n",
       "1       0.388889  \n",
       "2       0.386243  \n",
       "3       0.383598  \n",
       "4       0.380952  \n",
       "\n",
       "[5 rows x 28 columns]"
      ]
     },
     "execution_count": 5,
     "metadata": {},
     "output_type": "execute_result"
    }
   ],
   "source": [
    "data_training.head()"
   ]
  },
  {
   "cell_type": "code",
   "execution_count": 6,
   "metadata": {},
   "outputs": [
    {
     "name": "stdout",
     "output_type": "stream",
     "text": [
      "_________________________________________________________________\n",
      "Layer (type)                 Output Shape              Param #   \n",
      "=================================================================\n",
      "lstm_1 (LSTM)                (None, 10, 32)            7296      \n",
      "_________________________________________________________________\n",
      "lstm_2 (LSTM)                (None, 64)                24832     \n",
      "_________________________________________________________________\n",
      "dense_1 (Dense)              (None, 8)                 520       \n",
      "_________________________________________________________________\n",
      "dense_2 (Dense)              (None, 8)                 72        \n",
      "_________________________________________________________________\n",
      "dense_3 (Dense)              (None, 1)                 9         \n",
      "=================================================================\n",
      "Total params: 32,729\n",
      "Trainable params: 32,729\n",
      "Non-trainable params: 0\n",
      "_________________________________________________________________\n"
     ]
    }
   ],
   "source": [
    "model.summary()"
   ]
  },
  {
   "cell_type": "markdown",
   "metadata": {},
   "source": [
    "### Model Evaluation"
   ]
  },
  {
   "cell_type": "markdown",
   "metadata": {},
   "source": [
    "#### Model Evaluation on Training Data\n",
    "This section evaluate the model on the training data. First training data is formatted in the form of test data and then it is tested with the trained model."
   ]
  },
  {
   "cell_type": "code",
   "execution_count": 7,
   "metadata": {},
   "outputs": [],
   "source": [
    "from SAP.model import training_data_to_testing\n",
    "(Xtraining_to_testing, \n",
    " Ytraining_to_testing, \n",
    " engines_training_to_testing) = training_data_to_testing(data_testing = data_training,\n",
    "                                                         dt = dt, load_training_to_testing_data = False)"
   ]
  },
  {
   "cell_type": "markdown",
   "metadata": {},
   "source": [
    "Here we select engines id that we want to test. We also perform inverse operation (if applicable) on the normalized or standarized data."
   ]
  },
  {
   "cell_type": "code",
   "execution_count": 8,
   "metadata": {},
   "outputs": [
    {
     "name": "stdout",
     "output_type": "stream",
     "text": [
      "[Info] collecting RUL predictions on test data for specified engines...\n"
     ]
    }
   ],
   "source": [
    "# Evaluate model output against given RUL\n",
    "from SAP.model import Evaluate_Model\n",
    "(prediction,\n",
    " real,\n",
    " engines_to_check) = Evaluate_Model(Xtraining_to_testing, \n",
    "                        Ytraining_to_testing,\n",
    "                        engines_training_to_testing,\n",
    "                        model, \n",
    "                        False, \n",
    "                        engines_to_check = [1,2,3,4,5])\n",
    "\n",
    "# Convert RUL to original scale if normalization is done before\n",
    "from SAP.model import iNormalization\n",
    "(prediction,\n",
    "real) = iNormalization(prediction,\n",
    "                       real,\n",
    "                       normalization = normalization,\n",
    "                       time_of_event_max = time_of_event_max)"
   ]
  },
  {
   "cell_type": "markdown",
   "metadata": {},
   "source": [
    "The following function outputs the plot of remaining useful life over a period of time for specified engine id."
   ]
  },
  {
   "cell_type": "code",
   "execution_count": 9,
   "metadata": {},
   "outputs": [
    {
     "data": {
      "image/png": "[encoded data removed]",
      "text/plain": [
       "<matplotlib.figure.Figure at 0x1a1eabee10>"
      ]
     },
     "metadata": {},
     "output_type": "display_data"
    }
   ],
   "source": [
    "from SAP.utils import plot_RUL\n",
    "plot_RUL(engine = 5, X = data_training_FD2, engines_to_check = engines_to_check,\n",
    "         prediction = prediction, real = real, RULtraining = RULtraining, dt = dt)"
   ]
  },
  {
   "cell_type": "markdown",
   "metadata": {},
   "source": [
    "The above plot shows the remaining useful life prediction (red) along with real time-to-failure (blue) and average time-to-failure (black). Average time-to-failure is calculated using all the engine ids in training data. Plot shows that the model is able to predict well at a given cycle."
   ]
  },
  {
   "cell_type": "markdown",
   "metadata": {},
   "source": [
    "#### RUL prediction in Test Data\n",
    "Next, the model is evaluated against the test data. First, test data is prepared using the remaining useful life provided for every test engine id. Few more information is used to format the test data to input to the model."
   ]
  },
  {
   "cell_type": "code",
   "execution_count": 10,
   "metadata": {},
   "outputs": [
    {
     "name": "stdout",
     "output_type": "stream",
     "text": [
      "[Info] Centering the input test data...\n",
      "[Info] Normalizing the remaining useful life of test data...\n",
      "[Info] Assimilating test data for every engine...\n"
     ]
    }
   ],
   "source": [
    "from SAP.model import Prepare_TestData\n",
    "\n",
    "# Prepare test data \n",
    "(Xtesting, \n",
    " Ytesting,\n",
    " engines,\n",
    " all_in_one) = Prepare_TestData(X = data_testing_FD2, \n",
    "                               testing_RUL = data_testing_RUL_FD2,\n",
    "                               settings_min_max_mean = settings_min_max_mean,\n",
    "                               sensors_min_max_mean = sensors_min_max_mean,\n",
    "                               time_of_event_max = time_of_event_max,\n",
    "                               centering = centering,\n",
    "                               normalization = normalization,\n",
    "                               dt = dt,\n",
    "                               all_in_one = False)"
   ]
  },
  {
   "cell_type": "code",
   "execution_count": 11,
   "metadata": {},
   "outputs": [
    {
     "name": "stdout",
     "output_type": "stream",
     "text": [
      "[  1   2   3   4   5   6   7   8   9  10  11  12  13  14  15  16  17  18\n",
      "  19  20  21  22  23  24  25  26  27  28  29  30  31  32  33  34  35  36\n",
      "  37  38  39  40  41  42  43  44  45  46  47  48  49  50  51  52  53  54\n",
      "  55  56  57  58  59  60  61  62  63  64  65  66  67  68  69  70  71  72\n",
      "  73  74  75  76  77  78  79  80  81  82  83  84  85  86  87  88  89  90\n",
      "  91  92  93  94  95  96  97  98  99 100 101 102 103 104 105 106 107 108\n",
      " 109 110 111 112 113 114 115 116 117 118 119 120 121 122 123 124 125 126\n",
      " 127 128 129 130 131 132 133 134 135 136 137 138 139 140 141 142 143 144\n",
      " 145 146 147 148 149 150 151 152 153 154 155 156 157 158 159 160 161 162\n",
      " 163 164 165 166 167 168 169 170 171 172 173 174 175 176 177 178 179 180\n",
      " 181 182 183 184 185 186 187 188 189 190 191 192 193 194 195 196 197 198\n",
      " 199 200 201 202 203 204 205 206 207 208 209 210 211 212 213 214 215 216\n",
      " 217 218 219 220 221 222 223 224 225 226 227 228 229 230 231 232 233 234\n",
      " 235 236 237 238 239 240 241 242 243 244 245 246 247 248 249 250 251 252\n",
      " 253 254 255 256 257 258 259]\n"
     ]
    }
   ],
   "source": [
    "# These engines can be tested with trained model for remaining useful life\n",
    "print engines "
   ]
  },
  {
   "cell_type": "markdown",
   "metadata": {},
   "source": [
    "Model is evaluated for specified engine ids. Inverse operation (if applicable) of normalization or standardization is also performed at this stage."
   ]
  },
  {
   "cell_type": "code",
   "execution_count": 12,
   "metadata": {},
   "outputs": [
    {
     "name": "stdout",
     "output_type": "stream",
     "text": [
      "[Info] collecting RUL predictions on test data for specified engines...\n"
     ]
    }
   ],
   "source": [
    "# Evaluate model output against given RUL\n",
    "from SAP.model import Evaluate_Model\n",
    "(prediction,\n",
    " real,\n",
    " engines_to_check) = Evaluate_Model(Xtesting, \n",
    "                        Ytesting,\n",
    "                        engines,\n",
    "                        model, \n",
    "                        all_in_one, \n",
    "                        engines_to_check = [1,2,3,4,5,6,7,24,121])\n",
    "\n",
    "# Convert RUL to original scale if normalization is done before\n",
    "from SAP.model import iNormalization\n",
    "(prediction,\n",
    "real) = iNormalization(prediction,\n",
    "                       real,\n",
    "                       normalization = normalization,\n",
    "                       time_of_event_max = time_of_event_max)"
   ]
  },
  {
   "cell_type": "code",
   "execution_count": 13,
   "metadata": {},
   "outputs": [
    {
     "data": {
      "image/png": "[encoded data removed]",
      "text/plain": [
       "<matplotlib.figure.Figure at 0x1a2f974d90>"
      ]
     },
     "metadata": {},
     "output_type": "display_data"
    }
   ],
   "source": [
    "plot_RUL(engine = 1, X = data_testing_FD2, engines_to_check = engines_to_check,\n",
    "         prediction = prediction, real = real, RULtraining = RULtraining, dt = dt)"
   ]
  },
  {
   "cell_type": "markdown",
   "metadata": {
    "collapsed": true
   },
   "source": [
    "The above plot shows the remaining useful life prediction (red), real time-to-failure (blue) and average time-to-failure (black). The predicted curve follows the average time-to-failure in the begining of cycle and then follows the true time-to-failure curve as it approaches the time of event. The erratic nature of the predictions suggests for model improvement or testing different configuration of the model. User of this package can be easily perform this task in the model development section and evaluate the model."
   ]
  }
 ],
 "metadata": {
  "kernelspec": {
   "display_name": "Python 2",
   "language": "python",
   "name": "python2"
  },
  "language_info": {
   "codemirror_mode": {
    "name": "ipython",
    "version": 2
   },
   "file_extension": ".py",
   "mimetype": "text/x-python",
   "name": "python",
   "nbconvert_exporter": "python",
   "pygments_lexer": "ipython2",
   "version": "2.7.14"
  }
 },
 "nbformat": 4,
 "nbformat_minor": 2
}
